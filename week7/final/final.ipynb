{
 "cells": [
  {
   "cell_type": "code",
   "execution_count": 1,
   "metadata": {},
   "outputs": [],
   "source": [
    "import pandas as pd\n",
    "import numpy as np\n",
    "from sklearn.model_selection import KFold, GridSearchCV, cross_val_score\n",
    "from sklearn.ensemble import GradientBoostingClassifier\n",
    "from sklearn.metrics import roc_auc_score\n",
    "from sklearn.preprocessing import StandardScaler\n",
    "from sklearn.linear_model import LogisticRegression\n",
    "import warnings\n",
    "from tqdm import tqdm\n",
    "warnings.filterwarnings('ignore')"
   ]
  },
  {
   "cell_type": "code",
   "execution_count": 2,
   "metadata": {},
   "outputs": [],
   "source": [
    "data = pd.read_csv('data/features.csv')"
   ]
  },
  {
   "cell_type": "code",
   "execution_count": 3,
   "metadata": {},
   "outputs": [
    {
     "data": {
      "text/html": [
       "<div>\n",
       "<style scoped>\n",
       "    .dataframe tbody tr th:only-of-type {\n",
       "        vertical-align: middle;\n",
       "    }\n",
       "\n",
       "    .dataframe tbody tr th {\n",
       "        vertical-align: top;\n",
       "    }\n",
       "\n",
       "    .dataframe thead th {\n",
       "        text-align: right;\n",
       "    }\n",
       "</style>\n",
       "<table border=\"1\" class=\"dataframe\">\n",
       "  <thead>\n",
       "    <tr style=\"text-align: right;\">\n",
       "      <th></th>\n",
       "      <th>match_id</th>\n",
       "      <th>start_time</th>\n",
       "      <th>lobby_type</th>\n",
       "      <th>r1_hero</th>\n",
       "      <th>r1_level</th>\n",
       "      <th>r1_xp</th>\n",
       "      <th>r1_gold</th>\n",
       "      <th>r1_lh</th>\n",
       "      <th>r1_kills</th>\n",
       "      <th>r1_deaths</th>\n",
       "      <th>...</th>\n",
       "      <th>dire_boots_count</th>\n",
       "      <th>dire_ward_observer_count</th>\n",
       "      <th>dire_ward_sentry_count</th>\n",
       "      <th>dire_first_ward_time</th>\n",
       "      <th>duration</th>\n",
       "      <th>radiant_win</th>\n",
       "      <th>tower_status_radiant</th>\n",
       "      <th>tower_status_dire</th>\n",
       "      <th>barracks_status_radiant</th>\n",
       "      <th>barracks_status_dire</th>\n",
       "    </tr>\n",
       "  </thead>\n",
       "  <tbody>\n",
       "    <tr>\n",
       "      <td>0</td>\n",
       "      <td>0</td>\n",
       "      <td>1430198770</td>\n",
       "      <td>7</td>\n",
       "      <td>11</td>\n",
       "      <td>5</td>\n",
       "      <td>2098</td>\n",
       "      <td>1489</td>\n",
       "      <td>20</td>\n",
       "      <td>0</td>\n",
       "      <td>0</td>\n",
       "      <td>...</td>\n",
       "      <td>4</td>\n",
       "      <td>2</td>\n",
       "      <td>2</td>\n",
       "      <td>-52.0</td>\n",
       "      <td>2874</td>\n",
       "      <td>1</td>\n",
       "      <td>1796</td>\n",
       "      <td>0</td>\n",
       "      <td>51</td>\n",
       "      <td>0</td>\n",
       "    </tr>\n",
       "    <tr>\n",
       "      <td>1</td>\n",
       "      <td>1</td>\n",
       "      <td>1430220345</td>\n",
       "      <td>0</td>\n",
       "      <td>42</td>\n",
       "      <td>4</td>\n",
       "      <td>1188</td>\n",
       "      <td>1033</td>\n",
       "      <td>9</td>\n",
       "      <td>0</td>\n",
       "      <td>1</td>\n",
       "      <td>...</td>\n",
       "      <td>4</td>\n",
       "      <td>3</td>\n",
       "      <td>1</td>\n",
       "      <td>-5.0</td>\n",
       "      <td>2463</td>\n",
       "      <td>1</td>\n",
       "      <td>1974</td>\n",
       "      <td>0</td>\n",
       "      <td>63</td>\n",
       "      <td>1</td>\n",
       "    </tr>\n",
       "    <tr>\n",
       "      <td>2</td>\n",
       "      <td>2</td>\n",
       "      <td>1430227081</td>\n",
       "      <td>7</td>\n",
       "      <td>33</td>\n",
       "      <td>4</td>\n",
       "      <td>1319</td>\n",
       "      <td>1270</td>\n",
       "      <td>22</td>\n",
       "      <td>0</td>\n",
       "      <td>0</td>\n",
       "      <td>...</td>\n",
       "      <td>4</td>\n",
       "      <td>3</td>\n",
       "      <td>1</td>\n",
       "      <td>13.0</td>\n",
       "      <td>2130</td>\n",
       "      <td>0</td>\n",
       "      <td>0</td>\n",
       "      <td>1830</td>\n",
       "      <td>0</td>\n",
       "      <td>63</td>\n",
       "    </tr>\n",
       "    <tr>\n",
       "      <td>3</td>\n",
       "      <td>3</td>\n",
       "      <td>1430263531</td>\n",
       "      <td>1</td>\n",
       "      <td>29</td>\n",
       "      <td>4</td>\n",
       "      <td>1779</td>\n",
       "      <td>1056</td>\n",
       "      <td>14</td>\n",
       "      <td>0</td>\n",
       "      <td>0</td>\n",
       "      <td>...</td>\n",
       "      <td>4</td>\n",
       "      <td>2</td>\n",
       "      <td>0</td>\n",
       "      <td>27.0</td>\n",
       "      <td>1459</td>\n",
       "      <td>0</td>\n",
       "      <td>1920</td>\n",
       "      <td>2047</td>\n",
       "      <td>50</td>\n",
       "      <td>63</td>\n",
       "    </tr>\n",
       "    <tr>\n",
       "      <td>4</td>\n",
       "      <td>4</td>\n",
       "      <td>1430282290</td>\n",
       "      <td>7</td>\n",
       "      <td>13</td>\n",
       "      <td>4</td>\n",
       "      <td>1431</td>\n",
       "      <td>1090</td>\n",
       "      <td>8</td>\n",
       "      <td>1</td>\n",
       "      <td>0</td>\n",
       "      <td>...</td>\n",
       "      <td>3</td>\n",
       "      <td>3</td>\n",
       "      <td>0</td>\n",
       "      <td>-16.0</td>\n",
       "      <td>2449</td>\n",
       "      <td>0</td>\n",
       "      <td>4</td>\n",
       "      <td>1974</td>\n",
       "      <td>3</td>\n",
       "      <td>63</td>\n",
       "    </tr>\n",
       "  </tbody>\n",
       "</table>\n",
       "<p>5 rows × 109 columns</p>\n",
       "</div>"
      ],
      "text/plain": [
       "   match_id  start_time  lobby_type  r1_hero  r1_level  r1_xp  r1_gold  r1_lh  \\\n",
       "0         0  1430198770           7       11         5   2098     1489     20   \n",
       "1         1  1430220345           0       42         4   1188     1033      9   \n",
       "2         2  1430227081           7       33         4   1319     1270     22   \n",
       "3         3  1430263531           1       29         4   1779     1056     14   \n",
       "4         4  1430282290           7       13         4   1431     1090      8   \n",
       "\n",
       "   r1_kills  r1_deaths  ...  dire_boots_count  dire_ward_observer_count  \\\n",
       "0         0          0  ...                 4                         2   \n",
       "1         0          1  ...                 4                         3   \n",
       "2         0          0  ...                 4                         3   \n",
       "3         0          0  ...                 4                         2   \n",
       "4         1          0  ...                 3                         3   \n",
       "\n",
       "   dire_ward_sentry_count  dire_first_ward_time  duration  radiant_win  \\\n",
       "0                       2                 -52.0      2874            1   \n",
       "1                       1                  -5.0      2463            1   \n",
       "2                       1                  13.0      2130            0   \n",
       "3                       0                  27.0      1459            0   \n",
       "4                       0                 -16.0      2449            0   \n",
       "\n",
       "   tower_status_radiant  tower_status_dire  barracks_status_radiant  \\\n",
       "0                  1796                  0                       51   \n",
       "1                  1974                  0                       63   \n",
       "2                     0               1830                        0   \n",
       "3                  1920               2047                       50   \n",
       "4                     4               1974                        3   \n",
       "\n",
       "   barracks_status_dire  \n",
       "0                     0  \n",
       "1                     1  \n",
       "2                    63  \n",
       "3                    63  \n",
       "4                    63  \n",
       "\n",
       "[5 rows x 109 columns]"
      ]
     },
     "execution_count": 3,
     "metadata": {},
     "output_type": "execute_result"
    }
   ],
   "source": [
    "data.head()"
   ]
  },
  {
   "cell_type": "code",
   "execution_count": 4,
   "metadata": {},
   "outputs": [],
   "source": [
    "train = data.drop(['duration', 'radiant_win', 'tower_status_radiant',\n",
    "                   'tower_status_dire', 'barracks_status_radiant',\n",
    "                   'barracks_status_dire', 'match_id', 'start_time'], axis=1)"
   ]
  },
  {
   "cell_type": "code",
   "execution_count": 5,
   "metadata": {},
   "outputs": [
    {
     "data": {
      "text/plain": [
       "Index(['first_blood_time', 'first_blood_team', 'first_blood_player1',\n",
       "       'first_blood_player2', 'radiant_bottle_time', 'radiant_courier_time',\n",
       "       'radiant_flying_courier_time', 'radiant_first_ward_time',\n",
       "       'dire_bottle_time', 'dire_courier_time', 'dire_flying_courier_time',\n",
       "       'dire_first_ward_time'],\n",
       "      dtype='object')"
      ]
     },
     "execution_count": 5,
     "metadata": {},
     "output_type": "execute_result"
    }
   ],
   "source": [
    "train.columns[train.count() != train.shape[0]]"
   ]
  },
  {
   "cell_type": "markdown",
   "metadata": {},
   "source": [
    "Пустые клетки из-за событий, которые не успели произойти(например, не было ФБ или не было покупки курьера)"
   ]
  },
  {
   "cell_type": "code",
   "execution_count": 6,
   "metadata": {},
   "outputs": [],
   "source": [
    "train_filled = train.fillna(0)\n",
    "y = data['radiant_win']"
   ]
  },
  {
   "cell_type": "markdown",
   "metadata": {},
   "source": [
    "## Boosting"
   ]
  },
  {
   "cell_type": "code",
   "execution_count": 7,
   "metadata": {},
   "outputs": [
    {
     "name": "stdout",
     "output_type": "stream",
     "text": [
      "10: 0.6126 | 0.6059\n",
      "20: 0.6331 | 0.6260\n",
      "30: 0.6409 | 0.6313\n",
      "40: 0.6454 | 0.6358\n",
      "50: 0.6490 | 0.6381\n"
     ]
    }
   ],
   "source": [
    "kfold = KFold(n_splits=5, shuffle=True, random_state=241)\n",
    "scores = []\n",
    "for n in [10, 20, 30, 40, 50]:\n",
    "    gb = GradientBoostingClassifier(n_estimators=n, random_state=241)\n",
    "    train_score = []\n",
    "    test_score = []\n",
    "    for train_idx, test_idx in kfold.split(train_filled, y):\n",
    "        X_train, y_train = train_filled.iloc[train_idx], y.iloc[train_idx]\n",
    "        X_test, y_test = train_filled.iloc[test_idx], y.iloc[test_idx]\n",
    "        \n",
    "        gb.fit(X_train, y_train)\n",
    "        train_score.append(roc_auc_score(y_train, gb.predict(X_train)))\n",
    "        test_score.append(roc_auc_score(y_test, gb.predict(X_test)))\n",
    "        \n",
    "    scores.append([np.mean(train_score), np.mean(test_score)])\n",
    "    print('{}: {:>.4f} | {:>.4f}'.format(n, np.mean(train_score), np.mean(test_score)))"
   ]
  },
  {
   "cell_type": "code",
   "execution_count": 8,
   "metadata": {},
   "outputs": [],
   "source": [
    "boost = GradientBoostingClassifier(n_estimators=30, random_state=241)"
   ]
  },
  {
   "cell_type": "code",
   "execution_count": 9,
   "metadata": {},
   "outputs": [
    {
     "name": "stdout",
     "output_type": "stream",
     "text": [
      "CPU times: user 73.4 ms, sys: 91.4 ms, total: 165 ms\n",
      "Wall time: 36.5 s\n"
     ]
    }
   ],
   "source": [
    "%%time\n",
    "score = cross_val_score(boost, train_filled, y, cv=kfold, n_jobs=-1)"
   ]
  },
  {
   "cell_type": "markdown",
   "metadata": {},
   "source": [
    "## Log Reg"
   ]
  },
  {
   "cell_type": "code",
   "execution_count": 10,
   "metadata": {},
   "outputs": [],
   "source": [
    "scaler = StandardScaler()"
   ]
  },
  {
   "cell_type": "code",
   "execution_count": 11,
   "metadata": {},
   "outputs": [
    {
     "name": "stdout",
     "output_type": "stream",
     "text": [
      "0.0001: 0.7123 | 0.7111\n",
      "0.001: 0.7177 | 0.7161\n",
      "0.01: 0.7180 | 0.7163\n",
      "0.1: 0.7181 | 0.7162\n",
      "1.0: 0.7181 | 0.7162\n",
      "10.0: 0.7181 | 0.7162\n",
      "100.0: 0.7181 | 0.7162\n",
      "1000.0: 0.7181 | 0.7162\n"
     ]
    }
   ],
   "source": [
    "train_scaled = scaler.fit_transform(train_filled)\n",
    "scores = []\n",
    "params = [1e-4, 1e-3, 1e-2, 1e-1, 1e0, 1e1, 1e2, 1e3]\n",
    "for param in params:\n",
    "    train_score = []\n",
    "    test_score = []\n",
    "    for train_idx, test_idx in kfold.split(train_scaled, y):\n",
    "        logreg = LogisticRegression(C=param, random_state=241)\n",
    "        X_train, y_train = train_scaled[train_idx], y.iloc[train_idx]\n",
    "        X_test, y_test = train_scaled[test_idx], y.iloc[test_idx]\n",
    "        \n",
    "        logreg.fit(X_train, y_train)\n",
    "        train_score.append(roc_auc_score(y_train, logreg.predict_proba(X_train)[:, 1]))\n",
    "        test_score.append(roc_auc_score(y_test, logreg.predict_proba(X_test)[:, 1]))\n",
    "        \n",
    "    scores.append([np.mean(train_score), np.mean(test_score)])\n",
    "    print('{}: {:>.4f} | {:>.4f}'.format(param, np.mean(train_score), np.mean(test_score)))"
   ]
  },
  {
   "cell_type": "code",
   "execution_count": 12,
   "metadata": {},
   "outputs": [],
   "source": [
    "logit = LogisticRegression(C=1e-3, random_state=241)"
   ]
  },
  {
   "cell_type": "code",
   "execution_count": 13,
   "metadata": {},
   "outputs": [
    {
     "name": "stdout",
     "output_type": "stream",
     "text": [
      "CPU times: user 154 ms, sys: 48.2 ms, total: 202 ms\n",
      "Wall time: 4.97 s\n"
     ]
    }
   ],
   "source": [
    "%%time\n",
    "score = cross_val_score(logit, train_scaled, y, cv=kfold, n_jobs=-1)"
   ]
  },
  {
   "cell_type": "markdown",
   "metadata": {},
   "source": [
    "## Categorical features"
   ]
  },
  {
   "cell_type": "code",
   "execution_count": 14,
   "metadata": {},
   "outputs": [],
   "source": [
    "to_drop = [i for i in train_filled.columns if '_hero' in i] + ['lobby_type']\n",
    "train_drop_cat = train_filled.drop(to_drop, axis=1)"
   ]
  },
  {
   "cell_type": "code",
   "execution_count": 15,
   "metadata": {},
   "outputs": [
    {
     "name": "stdout",
     "output_type": "stream",
     "text": [
      "0.0001: 0.7121 | 0.7111\n",
      "0.001: 0.7175 | 0.7161\n",
      "0.01: 0.7179 | 0.7163\n",
      "0.1: 0.7179 | 0.7163\n",
      "1.0: 0.7179 | 0.7163\n",
      "10.0: 0.7179 | 0.7163\n",
      "100.0: 0.7179 | 0.7163\n",
      "1000.0: 0.7179 | 0.7163\n"
     ]
    }
   ],
   "source": [
    "data_scaled = scaler.fit_transform(train_drop_cat)\n",
    "scores = []\n",
    "params = [1e-4, 1e-3, 1e-2, 1e-1, 1e0, 1e1, 1e2, 1e3]\n",
    "for param in params:\n",
    "    train_score = []\n",
    "    test_score = []\n",
    "    for train_idx, test_idx in kfold.split(data_scaled, y):\n",
    "        logreg = LogisticRegression(C=param, random_state=241)\n",
    "        X_train, y_train = data_scaled[train_idx], y.iloc[train_idx]\n",
    "        X_test, y_test = data_scaled[test_idx], y.iloc[test_idx]\n",
    "        \n",
    "        logreg.fit(X_train, y_train)\n",
    "        train_score.append(roc_auc_score(y_train, logreg.predict_proba(X_train)[:, 1]))\n",
    "        test_score.append(roc_auc_score(y_test, logreg.predict_proba(X_test)[:, 1]))\n",
    "        \n",
    "    scores.append([np.mean(train_score), np.mean(test_score)])\n",
    "    print('{}: {:>.4f} | {:>.4f}'.format(param, np.mean(train_score), np.mean(test_score)))"
   ]
  },
  {
   "cell_type": "code",
   "execution_count": 16,
   "metadata": {},
   "outputs": [],
   "source": [
    "heroes = np.zeros((train_filled.shape[0], max(train_filled['r4_hero'])), dtype=int)\n",
    "heroes_col = [i for i in train_filled.columns if '_hero' in i]\n",
    "heroes_r = train_filled[heroes_col[:5]].to_numpy()\n",
    "heroes_d = train_filled[heroes_col[5:]].to_numpy()"
   ]
  },
  {
   "cell_type": "code",
   "execution_count": 17,
   "metadata": {},
   "outputs": [],
   "source": [
    "for i in range(train_filled.shape[0]):\n",
    "    line = heroes_r[i]\n",
    "    heroes[i, line - 1] = 1\n",
    "    line = heroes_d[i]\n",
    "    heroes[i, line - 1] = -1"
   ]
  },
  {
   "cell_type": "code",
   "execution_count": 18,
   "metadata": {},
   "outputs": [
    {
     "data": {
      "text/plain": [
       "(array([-1,  0,  1]), array([ 486150, 9917460,  486150]))"
      ]
     },
     "execution_count": 18,
     "metadata": {},
     "output_type": "execute_result"
    }
   ],
   "source": [
    "np.unique(heroes, return_counts=True)"
   ]
  },
  {
   "cell_type": "code",
   "execution_count": 19,
   "metadata": {},
   "outputs": [],
   "source": [
    "data_heroes = np.concatenate([data_scaled, heroes], axis=1)"
   ]
  },
  {
   "cell_type": "code",
   "execution_count": 20,
   "metadata": {},
   "outputs": [
    {
     "name": "stdout",
     "output_type": "stream",
     "text": [
      "0.0001: 0.7261 | 0.7249\n",
      "0.001: 0.7482 | 0.7462\n",
      "0.01: 0.7542 | 0.7516\n",
      "0.1: 0.7546 | 0.7518\n",
      "1.0: 0.7546 | 0.7518\n",
      "10.0: 0.7546 | 0.7518\n",
      "100.0: 0.7546 | 0.7518\n",
      "1000.0: 0.7546 | 0.7518\n"
     ]
    }
   ],
   "source": [
    "scores = []\n",
    "params = [1e-4, 1e-3, 1e-2, 1e-1, 1e0, 1e1, 1e2, 1e3]\n",
    "for param in params:\n",
    "    train_score = []\n",
    "    test_score = []\n",
    "    for train_idx, test_idx in kfold.split(data_heroes, y):\n",
    "        logreg = LogisticRegression(C=param, random_state=241)\n",
    "        X_train, y_train = data_heroes[train_idx], y.iloc[train_idx]\n",
    "        X_test, y_test = data_heroes[test_idx], y.iloc[test_idx]\n",
    "        \n",
    "        logreg.fit(X_train, y_train)\n",
    "        train_score.append(roc_auc_score(y_train, logreg.predict_proba(X_train)[:, 1]))\n",
    "        test_score.append(roc_auc_score(y_test, logreg.predict_proba(X_test)[:, 1]))\n",
    "        \n",
    "    scores.append([np.mean(train_score), np.mean(test_score)])\n",
    "    print('{}: {:>.4f} | {:>.4f}'.format(param, np.mean(train_score), np.mean(test_score)))"
   ]
  },
  {
   "cell_type": "markdown",
   "metadata": {},
   "source": [
    "### Predict"
   ]
  },
  {
   "cell_type": "code",
   "execution_count": 21,
   "metadata": {},
   "outputs": [],
   "source": [
    "test = pd.read_csv('data/features_test.csv')"
   ]
  },
  {
   "cell_type": "code",
   "execution_count": 22,
   "metadata": {},
   "outputs": [],
   "source": [
    "test_clean = test.fillna(0).drop(to_drop + ['match_id', 'start_time'], axis=1)"
   ]
  },
  {
   "cell_type": "code",
   "execution_count": 23,
   "metadata": {},
   "outputs": [],
   "source": [
    "test_scaled = scaler.transform(test_clean)"
   ]
  },
  {
   "cell_type": "code",
   "execution_count": 24,
   "metadata": {},
   "outputs": [
    {
     "data": {
      "text/plain": [
       "(array([-1,  0,  1]), array([  85885, 1752054,   85885]))"
      ]
     },
     "execution_count": 24,
     "metadata": {},
     "output_type": "execute_result"
    }
   ],
   "source": [
    "heroes = np.zeros((test.shape[0], max(train_filled['r4_hero'])), dtype=int)\n",
    "heroes_col = [i for i in test.columns if '_hero' in i]\n",
    "heroes_r = test[heroes_col[:5]].to_numpy()\n",
    "heroes_d = test[heroes_col[5:]].to_numpy()\n",
    "\n",
    "for i in range(test.shape[0]):\n",
    "    line = heroes_r[i]\n",
    "    heroes[i, line - 1] = 1\n",
    "    line = heroes_d[i]\n",
    "    heroes[i, line - 1] = -1\n",
    "    \n",
    "np.unique(heroes, return_counts=True)"
   ]
  },
  {
   "cell_type": "code",
   "execution_count": 25,
   "metadata": {},
   "outputs": [],
   "source": [
    "test_heroes = np.concatenate([test_scaled, heroes], axis=1)"
   ]
  },
  {
   "cell_type": "code",
   "execution_count": 26,
   "metadata": {},
   "outputs": [
    {
     "data": {
      "text/plain": [
       "LogisticRegression(C=0.1, class_weight=None, dual=False, fit_intercept=True,\n",
       "                   intercept_scaling=1, l1_ratio=None, max_iter=100,\n",
       "                   multi_class='warn', n_jobs=None, penalty='l2',\n",
       "                   random_state=241, solver='warn', tol=0.0001, verbose=0,\n",
       "                   warm_start=False)"
      ]
     },
     "execution_count": 26,
     "metadata": {},
     "output_type": "execute_result"
    }
   ],
   "source": [
    "model = LogisticRegression(C=0.1, random_state=241)\n",
    "model.fit(data_heroes, y)"
   ]
  },
  {
   "cell_type": "code",
   "execution_count": 27,
   "metadata": {},
   "outputs": [],
   "source": [
    "y_pred = model.predict_proba(test_heroes)[:, 1]"
   ]
  },
  {
   "cell_type": "code",
   "execution_count": 28,
   "metadata": {},
   "outputs": [],
   "source": [
    "pd.DataFrame({'match_id': test['match_id'], 'radiant_win': y_pred}).to_csv('predict.csv', index=False)"
   ]
  }
 ],
 "metadata": {
  "kernelspec": {
   "display_name": "Python 3",
   "language": "python",
   "name": "python3"
  },
  "language_info": {
   "codemirror_mode": {
    "name": "ipython",
    "version": 3
   },
   "file_extension": ".py",
   "mimetype": "text/x-python",
   "name": "python",
   "nbconvert_exporter": "python",
   "pygments_lexer": "ipython3",
   "version": "3.6.9"
  }
 },
 "nbformat": 4,
 "nbformat_minor": 4
}
